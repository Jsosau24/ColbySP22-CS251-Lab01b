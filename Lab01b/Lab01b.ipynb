{
 "cells": [
  {
   "cell_type": "markdown",
   "metadata": {},
   "source": [
    "# Lab 1: Intro to Jupyter Notebook, NumPy and MatPlotLib\n",
    "\n",
    "## Task 0: Intro to Jupyter Notebook\n",
    "\n",
    "### Running Jupyter Notebook\n",
    "\n",
    "2. Open terminal\n",
    "3. run `jupyter notebook`\n",
    "4. Browser opens with \"Files\" tab selected.\n",
    "5. Find Lab1 through the Jupyter Notebook navigating through the directory system.\n",
    "\n",
    "<img src=\"images/new_notebook.png\" alt=\"new notebook\" width=\"200\" align=\"right\"/>\n",
    "\n",
    "### Jupyter Notebook Basics\n",
    "\n",
    "1. Create your first notebook.\n",
    "  1. Navigate to the folder Lab1.\n",
    "  2. In the upper left corner, click \"New\" and from the dropdown \"Python 3\" \n",
    "2. Click on Untitled and rename your notebook Lab0\n",
    "3. In your first Cell type `##Hello World` and press Run (`Shift+Enter`).\n",
    "3. Change your first cell type to markdown and press Run (`Shift+Enter`).\n",
    "  1. [Markdown quick reference](https://github.com/adam-p/markdown-here/wiki/Markdown-Cheatsheet)\n",
    "5. Create a new cell and type `print(\"Hello World\")` into it and press Run (`Shift+Enter`).\n",
    "6. Include \"Lab 0\" in your submission.\n",
    "\n",
    "<img src=\"images/bar.png\" alt=\"heading\"/>\n",
    "\n",
    "## Task 1: Intro to NumPy\n",
    "\n",
    "For Tasks 1 and 2 please complete them by editing a copy of this notebook.\n",
    "\n",
    "### 1a) Create a NumPy Array\n",
    "\n",
    "1. Import 'test.csv' into a ndarray using [NumPy genfromtxt](https://numpy.org/devdocs/reference/generated/numpy.genfromtxt.html), [More info](https://numpy.org/devdocs/user/basics.io.genfromtxt.html)\n",
    "2. Print data [printing arrays](https://numpy.org/doc/stable/user/quickstart.html#printing-arrays)"
   ]
  },
  {
   "cell_type": "code",
   "execution_count": 46,
   "metadata": {
    "scrolled": false
   },
   "outputs": [
    {
     "name": "stdout",
     "output_type": "stream",
     "text": [
      "[[15. 16.  4.  5.]\n",
      " [ 4. 10. 10.  3.]\n",
      " [10.  4. 17. 12.]\n",
      " [ 6. 12.  1. 16.]\n",
      " [14. 15.  1. 12.]\n",
      " [11. 15. 19.  2.]]\n"
     ]
    }
   ],
   "source": [
    "import numpy as np\n",
    "\n",
    "test = np.genfromtxt('test.csv', delimiter=',')\n",
    "test = np.array(test)\n",
    "print (test)"
   ]
  },
  {
   "cell_type": "markdown",
   "metadata": {},
   "source": [
    "### 1b) Explore NumPy array\n",
    "\n",
    "#### Using the below links ↓ and NumPy documentation to complete the following tasks:\n",
    "[NumPy ndarray](https://numpy.org/devdocs/reference/arrays.ndarray.html)    \n",
    "[Array indexing](https://numpy.org/devdocs/reference/arrays.indexing.html)  \n",
    "\n",
    "- Print the shape of the array from test.csv.\n",
    "- Print just column 2 of the array from test.csv.\n",
    "- Print just row 5 of the array from test.csv.\n",
    "- Use a single ndarray method find the min of each column of the array from test.csv and print it\n",
    "- Use a single ndarray method to find the max of each row of the array from test.csv and print it\n",
    "- Use a single ndarray method to find the mean of each column of the array from test.csv and print it\n",
    "- Use a single ndarray method to find the sum of each row of the array from test.csv and print it\n",
    "- What is the shape of array2?\n",
    "- In one line use a ndarray method to convert array2 to a two dimensional array."
   ]
  },
  {
   "cell_type": "code",
   "execution_count": 37,
   "metadata": {},
   "outputs": [],
   "source": [
    "#array2 given\n",
    "array2 = np.array([[[0], [2], [4]],[[1], [3], [5]]])"
   ]
  },
  {
   "cell_type": "code",
   "execution_count": 31,
   "metadata": {},
   "outputs": [
    {
     "name": "stdout",
     "output_type": "stream",
     "text": [
      "test shape: (6, 4)\n"
     ]
    }
   ],
   "source": [
    "col,row = test.shape\n",
    "print(\"test shape: (\" + str(col) + \", \" + str(row) +\")\")"
   ]
  },
  {
   "cell_type": "code",
   "execution_count": 29,
   "metadata": {},
   "outputs": [
    {
     "name": "stdout",
     "output_type": "stream",
     "text": [
      "[16. 10.  4. 12. 15. 15.]\n"
     ]
    }
   ],
   "source": [
    "print (test[:,1])"
   ]
  },
  {
   "cell_type": "code",
   "execution_count": 30,
   "metadata": {},
   "outputs": [
    {
     "name": "stdout",
     "output_type": "stream",
     "text": [
      "[14. 15.  1. 12.]\n"
     ]
    }
   ],
   "source": [
    "print (test[4,:])"
   ]
  },
  {
   "cell_type": "code",
   "execution_count": 32,
   "metadata": {},
   "outputs": [
    {
     "name": "stdout",
     "output_type": "stream",
     "text": [
      "[4. 4. 1. 2.]\n"
     ]
    }
   ],
   "source": [
    "print (np.amin(test, axis=0))"
   ]
  },
  {
   "cell_type": "code",
   "execution_count": 33,
   "metadata": {},
   "outputs": [
    {
     "name": "stdout",
     "output_type": "stream",
     "text": [
      "[16. 10. 17. 16. 15. 19.]\n"
     ]
    }
   ],
   "source": [
    "print (np.amax(test, axis=1))"
   ]
  },
  {
   "cell_type": "code",
   "execution_count": 34,
   "metadata": {},
   "outputs": [
    {
     "name": "stdout",
     "output_type": "stream",
     "text": [
      "[10.         12.          8.66666667  8.33333333]\n"
     ]
    }
   ],
   "source": [
    "print (np.mean(test, axis=0))"
   ]
  },
  {
   "cell_type": "code",
   "execution_count": 35,
   "metadata": {},
   "outputs": [
    {
     "name": "stdout",
     "output_type": "stream",
     "text": [
      "[40. 27. 43. 35. 42. 47.]\n"
     ]
    }
   ],
   "source": [
    "print (np.sum(test, axis=1))"
   ]
  },
  {
   "cell_type": "code",
   "execution_count": 41,
   "metadata": {},
   "outputs": [
    {
     "name": "stdout",
     "output_type": "stream",
     "text": [
      "array2 shape: (2, 3, 1)\n"
     ]
    }
   ],
   "source": [
    "col = array2.shape\n",
    "print(\"array2 shape: \" + str(col))"
   ]
  },
  {
   "cell_type": "code",
   "execution_count": 45,
   "metadata": {},
   "outputs": [
    {
     "name": "stdout",
     "output_type": "stream",
     "text": [
      "[[0 2 4]\n",
      " [1 3 5]]\n"
     ]
    }
   ],
   "source": [
    "print(array2.reshape(2,3))"
   ]
  },
  {
   "cell_type": "markdown",
   "metadata": {},
   "source": [
    "## Task 2: MatPlotLib Basics\n",
    "\n",
    "### 2a) Plot the data in a single plot\n",
    "\n",
    "Using the [MatPlotLib](https://matplotlib.org/) documentation, visualize the dataset with Matplotlib. All charts should include a title, axis labels and a legend when applicable.\n",
    "\n",
    "1. Import 'lab1.csv' into a ndarray using genfromtxt. \n",
    "2. Set figure size to 12x8. [Figure reference](https://matplotlib.org/3.1.0/api/_as_gen/matplotlib.pyplot.figure.html) [rcParams](https://matplotlib.org/3.1.0/tutorials/introductory/customizing.html#matplotlib-rcparams)\n",
    "2. Create a cartesian line graph of column 2 (on the X axis) vs column 1 (Y axis) using a red dashed line. [matplotlib.pyplot introduction](https://matplotlib.org/tutorials/introductory/pyplot.html)\n",
    "    1. Include a title and axis labels."
   ]
  },
  {
   "cell_type": "code",
   "execution_count": 53,
   "metadata": {
    "scrolled": false
   },
   "outputs": [],
   "source": [
    "import matplotlib.pyplot as plt\n",
    "import numpy as np\n",
    "\n",
    "Labo1 = np.genfromtxt('lab1.csv', delimiter=',')\n",
    "Labo1 = np.array(Labo1)\n",
    "Labo1 = np.delete(Labo1, (0), axis=0)"
   ]
  },
  {
   "cell_type": "code",
   "execution_count": 58,
   "metadata": {},
   "outputs": [
    {
     "data": {
      "image/png": "[encoded data removed]",
      "text/plain": [
       "<Figure size 432x288 with 1 Axes>"
      ]
     },
     "metadata": {
      "needs_background": "light"
     },
     "output_type": "display_data"
    }
   ],
   "source": [
    "plt.plot(Labo1[:,2],Labo1[:,1],'r--')\n",
    "plt.ylabel('Column 1')\n",
    "plt.xlabel('Column 2')\n",
    "plt.show()"
   ]
  },
  {
   "cell_type": "markdown",
   "metadata": {},
   "source": [
    "### 2b) Plot the data in multiple subplots\n",
    "\n",
    "Create 6 graphs in 2 columns and 3 rows using [subplots](https://matplotlib.org/api/_as_gen/matplotlib.pyplot.subplot.html). \n",
    "1. Row 1 is two subplots (a scatterplot and a line graph) of column 1 graphed on the x-axis VS column 0 graphed on the y-axis\n",
    "2. Row 2 is two subplots (a scatterplot and a line graph) of column 2 (x-axis) VS column 1 (y-axis)\n",
    "3. Row 3 is two subplots (a scatterplot and a line graph) of column 2 (x-axis) VS column 0 (y-axis)\n",
    "4. Include a title and axis labels for each subplot.\n",
    "5. To insure there is enough space between subplots use [subplots_adjust](https://matplotlib.org/api/_as_gen/matplotlib.pyplot.subplots_adjust.html)"
   ]
  },
  {
   "cell_type": "code",
   "execution_count": 70,
   "metadata": {},
   "outputs": [
    {
     "data": {
      "image/png": "[encoded data removed]",
      "text/plain": [
       "<Figure size 432x288 with 6 Axes>"
      ]
     },
     "metadata": {
      "needs_background": "light"
     },
     "output_type": "display_data"
    }
   ],
   "source": [
    "#Row 1\n",
    "\n",
    "#Plot 1\n",
    "x =Labo1[:,1]\n",
    "y =Labo1[:,0]\n",
    "plt.xlabel('Column 1')\n",
    "plt.ylabel('Column 0')\n",
    "plt.subplot(3,2,1)\n",
    "plt.scatter(x,y)\n",
    "plt.title(\"Scatter Col 1 vs Col 0\")\n",
    "\n",
    "#Plot 2\n",
    "x =Labo1[:,1]\n",
    "y =Labo1[:,0]\n",
    "plt.xlabel('Column 1')\n",
    "plt.ylabel('Column 0')\n",
    "plt.subplot(3,2,2)\n",
    "plt.plot(x,y)\n",
    "plt.title(\"Plot Col 1 vs Col 0\")\n",
    "\n",
    "#Row 2\n",
    "\n",
    "#Plot 3\n",
    "x =Labo1[:,2]\n",
    "y =Labo1[:,1]\n",
    "plt.xlabel('Column 2')\n",
    "plt.ylabel('Column 1')\n",
    "plt.subplot(3,2,3)\n",
    "plt.scatter(x,y)\n",
    "plt.title(\"Scatter Col 2 vs Col 1\")\n",
    "\n",
    "#Plot 4\n",
    "x =Labo1[:,2]\n",
    "y =Labo1[:,1]\n",
    "plt.xlabel('Column 2')\n",
    "plt.ylabel('Column 1')\n",
    "plt.subplot(3,2,4)\n",
    "plt.plot(x,y)\n",
    "plt.title(\"Plot Col 2 vs Col 1\")\n",
    "\n",
    "#Row 3\n",
    "\n",
    "#Plot 5\n",
    "x =Labo1[:,2]\n",
    "y =Labo1[:,0]\n",
    "plt.xlabel('Column 2')\n",
    "plt.ylabel('Column 0')\n",
    "plt.subplot(3,2,5)\n",
    "plt.scatter(x,y)\n",
    "plt.title(\"Scatter Col 2 vs Col 0\")\n",
    "\n",
    "#Plot 6\n",
    "x =Labo1[:,2]\n",
    "y =Labo1[:,0]\n",
    "plt.xlabel('Column 2')\n",
    "plt.ylabel('Column 0')\n",
    "plt.subplot(3,2,6)\n",
    "plt.plot(x,y)\n",
    "plt.title(\"Plot Col 2 vs Col 0\")\n",
    "\n",
    "clas\n",
    "plt.suptitle(\"Lab 01\")\n",
    "plt.show()"
   ]
  },
  {
   "cell_type": "markdown",
   "metadata": {},
   "source": [
    "\n",
    "### 2c) Analysis Question\n",
    "Which pairs of columns are easier to read as scatter plots and which are easier to read as line graphs?  Why?\n",
    "\n",
    "## 3) Submit the Lab on classroom\n",
    "\n",
    "On classroom, upload and submit Lab01.ipynb when you have completed the Lab. The deadline to submit is Tuesday night (just over 24 h after the lab is assigned)."
   ]
  },
  {
   "cell_type": "markdown",
   "metadata": {},
   "source": [
    "### 2c) Analysis Question\n",
    "I think that the plots aew easier to read specially in the last 2 graphs. In the middle graphs I think that its the same, and at the top I think that the one on the right is the best one"
   ]
  }
 ],
 "metadata": {
  "kernelspec": {
   "display_name": "Python 3",
   "language": "python",
   "name": "python3"
  },
  "language_info": {
   "codemirror_mode": {
    "name": "ipython",
    "version": 3
   },
   "file_extension": ".py",
   "mimetype": "text/x-python",
   "name": "python",
   "nbconvert_exporter": "python",
   "pygments_lexer": "ipython3",
   "version": "3.8.5"
  }
 },
 "nbformat": 4,
 "nbformat_minor": 4
}
